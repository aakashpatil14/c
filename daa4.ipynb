{
 "cells": [
  {
   "cell_type": "code",
   "execution_count": 1,
   "id": "29c9fd85-96bb-467f-ac43-1d1f4f88ba2f",
   "metadata": {},
   "outputs": [
    {
     "name": "stdout",
     "output_type": "stream",
     "text": [
      "Selected Items:\n",
      "Item with weight 20 and value 100\n",
      "Item with weight 30 and value 120\n",
      "Maximum value achievable: 220\n"
     ]
    }
   ],
   "source": [
    "def knapsack_01(values, weights, capacity):\n",
    "    n = len(values)    \n",
    "    # Create a table to store the maximum values for different subproblems\n",
    "    dp = [[0 for _ in range(capacity + 1)] for _ in range(n + 1)]\n",
    "\n",
    "    for i in range(n + 1):\n",
    "        for w in range(capacity + 1):\n",
    "            if i == 0 or w == 0:\n",
    "                dp[i][w] = 0\n",
    "            elif weights[i - 1] <= w:\n",
    "                dp[i][w] = max(values[i - 1] + dp[i - 1][w - weights[i - 1]], dp[i - 1][w])\n",
    "            else:\n",
    "                dp[i][w] = dp[i - 1][w]\n",
    "\n",
    "    # Backtrack to find the items selected\n",
    "    selected_items = []\n",
    "    i, w = n, capacity\n",
    "    while i > 0 and w > 0:\n",
    "        if dp[i][w] != dp[i - 1][w]:\n",
    "            selected_items.append(i - 1)\n",
    "            w -= weights[i - 1]\n",
    "        i -= 1\n",
    "\n",
    "    selected_items.reverse()\n",
    "\n",
    "    return dp[n][capacity], selected_items\n",
    "\n",
    "# Example usage\n",
    "if __name__ == \"__main__\":\n",
    "    values = [60, 100, 120]\n",
    "    weights = [10, 20, 30]\n",
    "    max_capacity = 50\n",
    "\n",
    "    max_value, selected_items = knapsack_01(values, weights, max_capacity)\n",
    "\n",
    "    print(\"Selected Items:\")\n",
    "    for item in selected_items:\n",
    "        print(f\"Item with weight {weights[item]} and value {values[item]}\")\n",
    "\n",
    "    print(f\"Maximum value achievable: {max_value}\")"
   ]
  },
  {
   "cell_type": "code",
   "execution_count": null,
   "id": "3609aa01-298d-4aa3-b721-8d7b65f95ab9",
   "metadata": {},
   "outputs": [],
   "source": []
  }
 ],
 "metadata": {
  "kernelspec": {
   "display_name": "Python 3 (ipykernel)",
   "language": "python",
   "name": "python3"
  },
  "language_info": {
   "codemirror_mode": {
    "name": "ipython",
    "version": 3
   },
   "file_extension": ".py",
   "mimetype": "text/x-python",
   "name": "python",
   "nbconvert_exporter": "python",
   "pygments_lexer": "ipython3",
   "version": "3.11.9"
  }
 },
 "nbformat": 4,
 "nbformat_minor": 5
}
