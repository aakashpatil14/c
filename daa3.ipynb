{
 "cells": [
  {
   "cell_type": "code",
   "execution_count": 1,
   "id": "59206603-6873-4053-a1ef-e73387010b7b",
   "metadata": {},
   "outputs": [],
   "source": [
    "\n",
    "class Item:\n",
    "    def __init__(self, weight, value):\n",
    "        self.weight = weight\n",
    "        self.value = value\n"
   ]
  },
  {
   "cell_type": "code",
   "execution_count": 2,
   "id": "e7a8e482-78db-402b-b01c-98b38ab05485",
   "metadata": {},
   "outputs": [],
   "source": [
    "def fractional_knapsack(items, capacity):\n",
    "    # Calculate the value-to-weight ratio for each item\n",
    "    value_weight_ratio = [(item.value / item.weight, item) for item in items]\n",
    "\n",
    "    # Sort items in decreasing order of value-to-weight ratio\n",
    "    value_weight_ratio.sort(reverse=True)\n",
    "\n",
    "    total_value = 0.0\n",
    "    knapsack = []\n",
    "\n",
    "    for ratio, item in value_weight_ratio:\n",
    "        if capacity == 0:\n",
    "            break\n",
    "\n",
    "        weight = min(item.weight, capacity)\n",
    "        total_value += weight * ratio\n",
    "        capacity -= weight\n",
    "\n",
    "        knapsack.append((item, weight))\n",
    "\n",
    "    return total_value, knapsack\n",
    "\n"
   ]
  },
  {
   "cell_type": "code",
   "execution_count": 3,
   "id": "81724cdf-f437-4fb3-bff9-bbc0c6e2d1f4",
   "metadata": {},
   "outputs": [
    {
     "name": "stdout",
     "output_type": "stream",
     "text": [
      "Selected Items:\n",
      "Item with weight 10 and value 60 (fraction taken: 1.0)\n",
      "Item with weight 20 and value 100 (fraction taken: 1.0)\n",
      "Item with weight 30 and value 120 (fraction taken: 0.6666666666666666)\n",
      "Maximum value achievable: 240.0\n"
     ]
    }
   ],
   "source": [
    "if __name__ == \"__main__\":\n",
    "    items = [Item(10, 60), Item(20, 100), Item(30, 120)]\n",
    "    max_capacity = 50\n",
    "\n",
    "    max_value, selected_items = fractional_knapsack(items, max_capacity)\n",
    "\n",
    "    print(\"Selected Items:\")\n",
    "    for item, weight in selected_items:\n",
    "        print(f\"Item with weight {item.weight} and value {item.value} (fraction taken: {weight / item.weight})\")\n",
    "\n",
    "    print(f\"Maximum value achievable: {max_value}\")\n"
   ]
  },
  {
   "cell_type": "code",
   "execution_count": null,
   "id": "d557c658-dab5-49a7-a643-c5f4185feff1",
   "metadata": {},
   "outputs": [],
   "source": []
  },
  {
   "cell_type": "code",
   "execution_count": null,
   "id": "889ec741-f28e-4e8a-ab15-ae0288d89175",
   "metadata": {},
   "outputs": [],
   "source": []
  },
  {
   "cell_type": "code",
   "execution_count": null,
   "id": "a0bc472e-e79b-4185-bc2d-52fa27585960",
   "metadata": {},
   "outputs": [],
   "source": []
  }
 ],
 "metadata": {
  "kernelspec": {
   "display_name": "Python 3 (ipykernel)",
   "language": "python",
   "name": "python3"
  },
  "language_info": {
   "codemirror_mode": {
    "name": "ipython",
    "version": 3
   },
   "file_extension": ".py",
   "mimetype": "text/x-python",
   "name": "python",
   "nbconvert_exporter": "python",
   "pygments_lexer": "ipython3",
   "version": "3.11.9"
  }
 },
 "nbformat": 4,
 "nbformat_minor": 5
}
